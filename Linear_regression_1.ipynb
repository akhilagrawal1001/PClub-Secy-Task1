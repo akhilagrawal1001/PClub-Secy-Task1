{
  "nbformat": 4,
  "nbformat_minor": 0,
  "metadata": {
    "colab": {
      "name": "Linear_regression_1.ipynb",
      "provenance": [],
      "collapsed_sections": []
    },
    "kernelspec": {
      "name": "python3",
      "display_name": "Python 3"
    },
    "language_info": {
      "name": "python"
    }
  },
  "cells": [
    {
      "cell_type": "code",
      "metadata": {
        "id": "IS62extDPosa"
      },
      "source": [
        "import numpy as np"
      ],
      "execution_count": 1,
      "outputs": []
    },
    {
      "cell_type": "code",
      "metadata": {
        "id": "YoM_drM1QhpT"
      },
      "source": [
        "# We will expect our model to learn the and get the weights, bias as close as possible\n",
        "# we will create a dataset of m values."
      ],
      "execution_count": 2,
      "outputs": []
    },
    {
      "cell_type": "code",
      "metadata": {
        "id": "PqqqL9SnRhhU"
      },
      "source": [
        "# Hyper parameters\n",
        "m = 1000\n",
        "lr = 0.01\n",
        "epochs = 5000"
      ],
      "execution_count": 3,
      "outputs": []
    },
    {
      "cell_type": "code",
      "metadata": {
        "id": "kTtOS-91AL7P"
      },
      "source": [
        "# Chose this function at random\n",
        "def fun(x):\n",
        "  return  11 * x / 19 + 17 / 22 "
      ],
      "execution_count": 4,
      "outputs": []
    },
    {
      "cell_type": "code",
      "metadata": {
        "id": "fiO-usDsQYwE"
      },
      "source": [
        "def create_dataset():\n",
        "    X = np.random.rand(1000)\n",
        "    Y = fun(X) \n",
        "\n",
        "    return X, Y"
      ],
      "execution_count": 5,
      "outputs": []
    },
    {
      "cell_type": "code",
      "metadata": {
        "id": "ifQX-tSLT16D"
      },
      "source": [
        "x, y = create_dataset()"
      ],
      "execution_count": 6,
      "outputs": []
    },
    {
      "cell_type": "code",
      "metadata": {
        "id": "X-I9zgpETnuD"
      },
      "source": [
        "# This is the forward propagation of the model\n",
        "\n",
        "def predict(X, w, b):\n",
        "  return w * X + b"
      ],
      "execution_count": 7,
      "outputs": []
    },
    {
      "cell_type": "code",
      "metadata": {
        "id": "HVEUE0njTJyk"
      },
      "source": [
        "# Initialising random weight and bias\n",
        "w = np.random.rand(1)\n",
        "b = np.random.rand(1)"
      ],
      "execution_count": 8,
      "outputs": []
    },
    {
      "cell_type": "code",
      "metadata": {
        "id": "UFNCgjUB-9cf"
      },
      "source": [
        "def loss(y, y_pred):\n",
        "  # Mean cubed error \n",
        "  return np.sum(np.abs(y-y_pred) *  np.abs(y-y_pred) * np.abs(y-y_pred)) / m"
      ],
      "execution_count": 9,
      "outputs": []
    },
    {
      "cell_type": "code",
      "metadata": {
        "id": "hg4zR8OQ_qBI"
      },
      "source": [
        "def derivative(y, y_pred):\n",
        "  return 3 * (y_hat - y) * np.abs(y_hat - y)"
      ],
      "execution_count": 10,
      "outputs": []
    },
    {
      "cell_type": "code",
      "metadata": {
        "id": "KxUCmXZaTS3i",
        "colab": {
          "base_uri": "https://localhost:8080/"
        },
        "outputId": "44c7b1b7-ba51-4394-c7e2-6aeb171024ee"
      },
      "source": [
        "losses = []\n",
        "for i in range(epochs):\n",
        "  # forward prop\n",
        "  y_hat = predict(x, w, b)\n",
        "\n",
        "  # derivative for backprop\n",
        "  dz =  derivative(y, y_hat)\n",
        "\n",
        "  # printing loss every 50 epochs\n",
        "  if i % 50 == 0:\n",
        "    losses.append(loss(y, y_hat))\n",
        "    print(\"Loss at epoch \" + str(i+1) + \" is \" + str(loss(y, y_hat)))\n",
        "\n",
        "  dw = np.dot(x, dz.transpose()) / m\n",
        "  db = np.sum(dz) / m\n",
        "\n",
        "  w -= lr * dw\n",
        "  b -= lr * db"
      ],
      "execution_count": 11,
      "outputs": [
        {
          "output_type": "stream",
          "text": [
            "Loss at epoch 1 is 0.20206524678850724\n",
            "Loss at epoch 51 is 0.021325089832391633\n",
            "Loss at epoch 101 is 0.006420740721861319\n",
            "Loss at epoch 151 is 0.002899456331539436\n",
            "Loss at epoch 201 is 0.0016262795595412707\n",
            "Loss at epoch 251 is 0.0010420019936195261\n",
            "Loss at epoch 301 is 0.0007289953237929645\n",
            "Loss at epoch 351 is 0.0005419098705264422\n",
            "Loss at epoch 401 is 0.00042057090912355345\n",
            "Loss at epoch 451 is 0.00033714415419393913\n",
            "Loss at epoch 501 is 0.0002775250749044342\n",
            "Loss at epoch 551 is 0.0002337565599406202\n",
            "Loss at epoch 601 is 0.00020099040811578174\n",
            "Loss at epoch 651 is 0.0001760897496994639\n",
            "Loss at epoch 701 is 0.00015693316765904983\n",
            "Loss at epoch 751 is 0.0001420410447891188\n",
            "Loss at epoch 801 is 0.00013035258608632317\n",
            "Loss at epoch 851 is 0.00012109065099674465\n",
            "Loss at epoch 901 is 0.00011367628499635543\n",
            "Loss at epoch 951 is 0.00010767481256095461\n",
            "Loss at epoch 1001 is 0.00010275804287179121\n",
            "Loss at epoch 1051 is 9.867678683210154e-05\n",
            "Loss at epoch 1101 is 9.524105756768066e-05\n",
            "Loss at epoch 1151 is 9.230561351731528e-05\n",
            "Loss at epoch 1201 is 8.97592903120214e-05\n",
            "Loss at epoch 1251 is 8.751690369883589e-05\n",
            "Loss at epoch 1301 is 8.551311630323221e-05\n",
            "Loss at epoch 1351 is 8.369778558891847e-05\n",
            "Loss at epoch 1401 is 8.203240799076197e-05\n",
            "Loss at epoch 1451 is 8.048738415616752e-05\n",
            "Loss at epoch 1501 is 7.90399310439617e-05\n",
            "Loss at epoch 1551 is 7.767248137699274e-05\n",
            "Loss at epoch 1601 is 7.637146169275372e-05\n",
            "Loss at epoch 1651 is 7.512635497455181e-05\n",
            "Loss at epoch 1701 is 7.392898418522995e-05\n",
            "Loss at epoch 1751 is 7.277296519058261e-05\n",
            "Loss at epoch 1801 is 7.165328872556189e-05\n",
            "Loss at epoch 1851 is 7.056600121730261e-05\n",
            "Loss at epoch 1901 is 6.9507960600477e-05\n",
            "Loss at epoch 1951 is 6.84766494466024e-05\n",
            "Loss at epoch 2001 is 6.747003206206369e-05\n",
            "Loss at epoch 2051 is 6.648644505866034e-05\n",
            "Loss at epoch 2101 is 6.552451349853122e-05\n",
            "Loss at epoch 2151 is 6.458308662530554e-05\n",
            "Loss at epoch 2201 is 6.366118854308194e-05\n",
            "Loss at epoch 2251 is 6.275798033368094e-05\n",
            "Loss at epoch 2301 is 6.187273091900744e-05\n",
            "Loss at epoch 2351 is 6.1004794615260866e-05\n",
            "Loss at epoch 2401 is 6.015359381497502e-05\n",
            "Loss at epoch 2451 is 5.9318605602740993e-05\n",
            "Loss at epoch 2501 is 5.849935138745526e-05\n",
            "Loss at epoch 2551 is 5.769538885151007e-05\n",
            "Loss at epoch 2601 is 5.690630568115293e-05\n",
            "Loss at epoch 2651 is 5.613171466761386e-05\n",
            "Loss at epoch 2701 is 5.537124986537247e-05\n",
            "Loss at epoch 2751 is 5.462456356597671e-05\n",
            "Loss at epoch 2801 is 5.3891323902314424e-05\n",
            "Loss at epoch 2851 is 5.3171212941159886e-05\n",
            "Loss at epoch 2901 is 5.2463925154334966e-05\n",
            "Loss at epoch 2951 is 5.1769166184206294e-05\n",
            "Loss at epoch 3001 is 5.1086651838519595e-05\n",
            "Loss at epoch 3051 is 5.0416107264419575e-05\n",
            "Loss at epoch 3101 is 4.975726626288406e-05\n",
            "Loss at epoch 3151 is 4.9109870713560694e-05\n",
            "Loss at epoch 3201 is 4.8473670086757595e-05\n",
            "Loss at epoch 3251 is 4.784842102453503e-05\n",
            "Loss at epoch 3301 is 4.7233886976858775e-05\n",
            "Loss at epoch 3351 is 4.662983788188385e-05\n",
            "Loss at epoch 3401 is 4.603604988183731e-05\n",
            "Loss at epoch 3451 is 4.545230506781964e-05\n",
            "Loss at epoch 3501 is 4.487839124829182e-05\n",
            "Loss at epoch 3551 is 4.431410173713324e-05\n",
            "Loss at epoch 3601 is 4.375923515802044e-05\n",
            "Loss at epoch 3651 is 4.321359526255425e-05\n",
            "Loss at epoch 3701 is 4.2676990760098314e-05\n",
            "Loss at epoch 3751 is 4.214923515769163e-05\n",
            "Loss at epoch 3801 is 4.1630146608727436e-05\n",
            "Loss at epoch 3851 is 4.111954776934752e-05\n",
            "Loss at epoch 3901 is 4.061726566168608e-05\n",
            "Loss at epoch 3951 is 4.012313154326747e-05\n",
            "Loss at epoch 4001 is 3.9636980781977346e-05\n",
            "Loss at epoch 4051 is 3.9158652736126604e-05\n",
            "Loss at epoch 4101 is 3.868799063920433e-05\n",
            "Loss at epoch 4151 is 3.822484148898146e-05\n",
            "Loss at epoch 4201 is 3.77690559406675e-05\n",
            "Loss at epoch 4251 is 3.73204882038741e-05\n",
            "Loss at epoch 4301 is 3.687899594316203e-05\n",
            "Loss at epoch 4351 is 3.644444018197834e-05\n",
            "Loss at epoch 4401 is 3.601668520981113e-05\n",
            "Loss at epoch 4451 is 3.5595598492405565e-05\n",
            "Loss at epoch 4501 is 3.518105058490381e-05\n",
            "Loss at epoch 4551 is 3.477291504777749e-05\n",
            "Loss at epoch 4601 is 3.437106836543553e-05\n",
            "Loss at epoch 4651 is 3.3975389867401545e-05\n",
            "Loss at epoch 4701 is 3.358576165195116e-05\n",
            "Loss at epoch 4751 is 3.320206851212384e-05\n",
            "Loss at epoch 4801 is 3.282419786401186e-05\n",
            "Loss at epoch 4851 is 3.2452039677246745e-05\n",
            "Loss at epoch 4901 is 3.208548640760366e-05\n",
            "Loss at epoch 4951 is 3.1724432931641454e-05\n"
          ],
          "name": "stdout"
        }
      ]
    },
    {
      "cell_type": "code",
      "metadata": {
        "colab": {
          "base_uri": "https://localhost:8080/"
        },
        "id": "7BLlyJ7xUEEq",
        "outputId": "241c687e-19d5-4055-d3df-2ea29209da65"
      },
      "source": [
        "print(w)"
      ],
      "execution_count": 12,
      "outputs": [
        {
          "output_type": "stream",
          "text": [
            "[0.67768688]\n"
          ],
          "name": "stdout"
        }
      ]
    },
    {
      "cell_type": "code",
      "metadata": {
        "colab": {
          "base_uri": "https://localhost:8080/"
        },
        "id": "sqmfnqtUUp7S",
        "outputId": "6a378e26-695e-4a0a-cc9e-356c62009300"
      },
      "source": [
        "test = np.random.rand(1)\n",
        "print(\"Actual value: \" + str(fun(test)))\n",
        "print(\"Predicted value: \" + str(predict(test, w, b)))"
      ],
      "execution_count": 13,
      "outputs": [
        {
          "output_type": "stream",
          "text": [
            "Actual value: [0.80956006]\n",
            "Predicted value: [0.7629679]\n"
          ],
          "name": "stdout"
        }
      ]
    },
    {
      "cell_type": "code",
      "metadata": {
        "id": "lwt8XK0aybw2",
        "colab": {
          "base_uri": "https://localhost:8080/",
          "height": 282
        },
        "outputId": "9d713365-10ef-445c-b5f8-c047ad958056"
      },
      "source": [
        "epocs_x = [i for i in range(1, epochs, 50)]\n",
        "import matplotlib.pyplot as plt\n",
        "plt.plot(epocs_x, losses)"
      ],
      "execution_count": 14,
      "outputs": [
        {
          "output_type": "execute_result",
          "data": {
            "text/plain": [
              "[<matplotlib.lines.Line2D at 0x7f755bae1dd0>]"
            ]
          },
          "metadata": {},
          "execution_count": 14
        },
        {
          "output_type": "display_data",
          "data": {
            "image/png": "[encoded data removed]",
            "text/plain": [
              "<Figure size 432x288 with 1 Axes>"
            ]
          },
          "metadata": {
            "needs_background": "light"
          }
        }
      ]
    },
    {
      "cell_type": "code",
      "metadata": {
        "id": "M4UyjqClNQDn"
      },
      "source": [
        "# create test data for the model\n",
        "test_x, test_y = create_dataset()"
      ],
      "execution_count": 15,
      "outputs": []
    },
    {
      "cell_type": "code",
      "metadata": {
        "colab": {
          "base_uri": "https://localhost:8080/"
        },
        "id": "1O7F0UuZAJU-",
        "outputId": "d858bca2-2ce4-488a-aac1-600c5db94821"
      },
      "source": [
        "# Loss on test data\n",
        "print(\"Loss on test data is : \" + str(loss(test_y, predict(test_x, w, b))))"
      ],
      "execution_count": 16,
      "outputs": [
        {
          "output_type": "stream",
          "text": [
            "Loss on test data is : 3.2463822194590294e-05\n"
          ],
          "name": "stdout"
        }
      ]
    },
    {
      "cell_type": "code",
      "metadata": {
        "colab": {
          "base_uri": "https://localhost:8080/",
          "height": 298
        },
        "id": "GebRywNkBt39",
        "outputId": "5980ebeb-0607-4d43-dd09-62e6193f19e7"
      },
      "source": [
        "# Plotting the ground truth values vs model predicted values\n",
        "plt.plot(test_x, test_y, '.',\n",
        "         test_x, predict(test_x, w, b), '-')"
      ],
      "execution_count": 17,
      "outputs": [
        {
          "output_type": "execute_result",
          "data": {
            "text/plain": [
              "[<matplotlib.lines.Line2D at 0x7f755ba3b550>,\n",
              " <matplotlib.lines.Line2D at 0x7f755ba7e2d0>]"
            ]
          },
          "metadata": {},
          "execution_count": 17
        },
        {
          "output_type": "display_data",
          "data": {
            "image/png": "[encoded data removed]",
            "text/plain": [
              "<Figure size 432x288 with 1 Axes>"
            ]
          },
          "metadata": {
            "needs_background": "light"
          }
        }
      ]
    }
  ]
}