{
  "nbformat": 4,
  "nbformat_minor": 0,
  "metadata": {
    "colab": {
      "name": "Linear_regression_1.ipynb",
      "provenance": [],
      "collapsed_sections": []
    },
    "kernelspec": {
      "name": "python3",
      "display_name": "Python 3"
    },
    "language_info": {
      "name": "python"
    }
  },
  "cells": [
    {
      "cell_type": "code",
      "metadata": {
        "id": "IS62extDPosa"
      },
      "source": [
        "import numpy as np"
      ],
      "execution_count": 15,
      "outputs": []
    },
    {
      "cell_type": "code",
      "metadata": {
        "id": "YoM_drM1QhpT"
      },
      "source": [
        "# We will expect our model to learn the and get the weights, bias as close as possible\n",
        "# we will create a dataset of m values."
      ],
      "execution_count": 16,
      "outputs": []
    },
    {
      "cell_type": "code",
      "metadata": {
        "id": "PqqqL9SnRhhU"
      },
      "source": [
        "# Hyper parameters\n",
        "m = 1000\n",
        "lr = 0.01\n",
        "epochs = 5000"
      ],
      "execution_count": 17,
      "outputs": []
    },
    {
      "cell_type": "code",
      "metadata": {
        "id": "kTtOS-91AL7P"
      },
      "source": [
        "# Chose this function at random\n",
        "def fun(x):\n",
        "  return  11 * x / 19 + 17 / 22 "
      ],
      "execution_count": 18,
      "outputs": []
    },
    {
      "cell_type": "code",
      "metadata": {
        "id": "fiO-usDsQYwE"
      },
      "source": [
        "def create_dataset():\n",
        "    X = np.random.rand(1000)\n",
        "    Y = fun(X) \n",
        "\n",
        "    return X, Y"
      ],
      "execution_count": 19,
      "outputs": []
    },
    {
      "cell_type": "code",
      "metadata": {
        "id": "ifQX-tSLT16D"
      },
      "source": [
        "x, y = create_dataset()"
      ],
      "execution_count": 20,
      "outputs": []
    },
    {
      "cell_type": "code",
      "metadata": {
        "id": "X-I9zgpETnuD"
      },
      "source": [
        "# This is the forward propagation of the model\n",
        "\n",
        "def predict(X, w, b):\n",
        "  return w * X + b"
      ],
      "execution_count": 21,
      "outputs": []
    },
    {
      "cell_type": "code",
      "metadata": {
        "id": "HVEUE0njTJyk"
      },
      "source": [
        "# Initialising random weight and bias\n",
        "w = np.random.rand(1)\n",
        "b = np.random.rand(1)"
      ],
      "execution_count": 22,
      "outputs": []
    },
    {
      "cell_type": "code",
      "metadata": {
        "id": "UFNCgjUB-9cf"
      },
      "source": [
        "def loss(y, y_pred):\n",
        "  # Mean cubed error \n",
        "  return np.sum(np.abs(y-y_pred) *  np.abs(y-y_pred) * np.abs(y-y_pred)) / m"
      ],
      "execution_count": 23,
      "outputs": []
    },
    {
      "cell_type": "code",
      "metadata": {
        "id": "hg4zR8OQ_qBI"
      },
      "source": [
        "def derivative(y, y_pred):\n",
        "  return 3 * (y_hat - y) * np.abs(y_hat - y)"
      ],
      "execution_count": 24,
      "outputs": []
    },
    {
      "cell_type": "code",
      "metadata": {
        "id": "KxUCmXZaTS3i",
        "colab": {
          "base_uri": "https://localhost:8080/"
        },
        "outputId": "9a89c0f4-13b6-46e3-8170-cf4244b37ed7"
      },
      "source": [
        "losses = []\n",
        "for i in range(epochs):\n",
        "  # forward prop\n",
        "  y_hat = predict(x, w, b)\n",
        "\n",
        "  # derivative for backprop\n",
        "  dz =  derivative(y, y_hat)\n",
        "\n",
        "  # printing loss every 50 epochs\n",
        "  if i % 50 == 0:\n",
        "    losses.append(loss(y, y_hat))\n",
        "    print(\"Loss at epoch \" + str(i+1) + \" is \" + str(loss(y, y_hat)))\n",
        "\n",
        "  dw = np.dot(x, dz.transpose()) / m\n",
        "  db = np.sum(dz) / m\n",
        "\n",
        "  w -= lr * dw\n",
        "  b -= lr * db"
      ],
      "execution_count": 25,
      "outputs": [
        {
          "output_type": "stream",
          "text": [
            "Loss at epoch 1 is 0.00016090192736697173\n",
            "Loss at epoch 51 is 0.00015218335595133226\n",
            "Loss at epoch 101 is 0.0001453327635444973\n",
            "Loss at epoch 151 is 0.00013980859134631043\n",
            "Loss at epoch 201 is 0.0001352375577326363\n",
            "Loss at epoch 251 is 0.00013135930213980108\n",
            "Loss at epoch 301 is 0.0001279905052584604\n",
            "Loss at epoch 351 is 0.000125001075311312\n",
            "Loss at epoch 401 is 0.0001222980159661929\n",
            "Loss at epoch 451 is 0.00011981440593050476\n",
            "Loss at epoch 501 is 0.00011750178114168517\n",
            "Loss at epoch 551 is 0.00011532481791413587\n",
            "Loss at epoch 601 is 0.00011325760236150648\n",
            "Loss at epoch 651 is 0.00011128099411020716\n",
            "Loss at epoch 701 is 0.0001093807506806094\n",
            "Loss at epoch 751 is 0.00010754618713855556\n",
            "Loss at epoch 801 is 0.00010576921284806667\n",
            "Loss at epoch 851 is 0.0001040436365549734\n",
            "Loss at epoch 901 is 0.00010236466315805637\n",
            "Loss at epoch 951 is 0.00010072852802615755\n",
            "Loss at epoch 1001 is 9.913223049864503e-05\n",
            "Loss at epoch 1051 is 9.757333907925253e-05\n",
            "Loss at epoch 1101 is 9.604984864541033e-05\n",
            "Loss at epoch 1151 is 9.4560075467191e-05\n",
            "Loss at epoch 1201 is 9.310257978594833e-05\n",
            "Loss at epoch 1251 is 9.167610855674766e-05\n",
            "Loss at epoch 1301 is 9.027955297398177e-05\n",
            "Loss at epoch 1351 is 8.891191685868838e-05\n",
            "Loss at epoch 1401 is 8.757229304301265e-05\n",
            "Loss at epoch 1451 is 8.625984565875755e-05\n",
            "Loss at epoch 1501 is 8.497379679437767e-05\n",
            "Loss at epoch 1551 is 8.371341639368937e-05\n",
            "Loss at epoch 1601 is 8.247801456429666e-05\n",
            "Loss at epoch 1651 is 8.126693568203457e-05\n",
            "Loss at epoch 1701 is 8.007955383767368e-05\n",
            "Loss at epoch 1751 is 7.891526928946987e-05\n",
            "Loss at epoch 1801 is 7.777350567185167e-05\n",
            "Loss at epoch 1851 is 7.665370777451028e-05\n",
            "Loss at epoch 1901 is 7.555533975329304e-05\n",
            "Loss at epoch 1951 is 7.447788366940647e-05\n",
            "Loss at epoch 2001 is 7.342083827946316e-05\n",
            "Loss at epoch 2051 is 7.238371801825317e-05\n",
            "Loss at epoch 2101 is 7.136605213053271e-05\n",
            "Loss at epoch 2151 is 7.036738391888574e-05\n",
            "Loss at epoch 2201 is 6.938727008275345e-05\n",
            "Loss at epoch 2251 is 6.842528012974443e-05\n",
            "Loss at epoch 2301 is 6.74809958448687e-05\n",
            "Loss at epoch 2351 is 6.655401080672163e-05\n",
            "Loss at epoch 2401 is 6.56439299422158e-05\n",
            "Loss at epoch 2451 is 6.475036911337615e-05\n",
            "Loss at epoch 2501 is 6.387295473117815e-05\n",
            "Loss at epoch 2551 is 6.301132339252052e-05\n",
            "Loss at epoch 2601 is 6.216512153725155e-05\n",
            "Loss at epoch 2651 is 6.133400512281891e-05\n",
            "Loss at epoch 2701 is 6.051763931460062e-05\n",
            "Loss at epoch 2751 is 5.9715698190343864e-05\n",
            "Loss at epoch 2801 is 5.892786445743299e-05\n",
            "Loss at epoch 2851 is 5.81538291819286e-05\n",
            "Loss at epoch 2901 is 5.7393291528492404e-05\n",
            "Loss at epoch 2951 is 5.664595851045107e-05\n",
            "Loss at epoch 3001 is 5.5911544749352554e-05\n",
            "Loss at epoch 3051 is 5.518977224346128e-05\n",
            "Loss at epoch 3101 is 5.448037014469537e-05\n",
            "Loss at epoch 3151 is 5.378307454357215e-05\n",
            "Loss at epoch 3201 is 5.309762826176972e-05\n",
            "Loss at epoch 3251 is 5.242378065194323e-05\n",
            "Loss at epoch 3301 is 5.1761287404472e-05\n",
            "Loss at epoch 3351 is 5.1109910360834996e-05\n",
            "Loss at epoch 3401 is 5.046941733333514e-05\n",
            "Loss at epoch 3451 is 4.983958193090803e-05\n",
            "Loss at epoch 3501 is 4.922018339077222e-05\n",
            "Loss at epoch 3551 is 4.861100641568909e-05\n",
            "Loss at epoch 3601 is 4.8011841016612903e-05\n",
            "Loss at epoch 3651 is 4.7422482360523365e-05\n",
            "Loss at epoch 3701 is 4.6842730623245474e-05\n",
            "Loss at epoch 3751 is 4.627239084706681e-05\n",
            "Loss at epoch 3801 is 4.5711272802975546e-05\n",
            "Loss at epoch 3851 is 4.5159190857348384e-05\n",
            "Loss at epoch 3901 is 4.461596384292349e-05\n",
            "Loss at epoch 3951 is 4.408141493390373e-05\n",
            "Loss at epoch 4001 is 4.3555371525041226e-05\n",
            "Loss at epoch 4051 is 4.303766511455964e-05\n",
            "Loss at epoch 4101 is 4.25281311907753e-05\n",
            "Loss at epoch 4151 is 4.202660912228654e-05\n",
            "Loss at epoch 4201 is 4.153294205160916e-05\n",
            "Loss at epoch 4251 is 4.104697679212763e-05\n",
            "Loss at epoch 4301 is 4.056856372825294e-05\n",
            "Loss at epoch 4351 is 4.0097556718674984e-05\n",
            "Loss at epoch 4401 is 3.963381300259541e-05\n",
            "Loss at epoch 4451 is 3.917719310884557e-05\n",
            "Loss at epoch 4501 is 3.8727560767785855e-05\n",
            "Loss at epoch 4551 is 3.828478282589085e-05\n",
            "Loss at epoch 4601 is 3.7848729162929825e-05\n",
            "Loss at epoch 4651 is 3.7419272611655006e-05\n",
            "Loss at epoch 4701 is 3.699628887990701e-05\n",
            "Loss at epoch 4751 is 3.6579656475064044e-05\n",
            "Loss at epoch 4801 is 3.616925663075069e-05\n",
            "Loss at epoch 4851 is 3.576497323573055e-05\n",
            "Loss at epoch 4901 is 3.536669276490996e-05\n",
            "Loss at epoch 4951 is 3.49743042123858e-05\n"
          ],
          "name": "stdout"
        }
      ]
    },
    {
      "cell_type": "code",
      "metadata": {
        "colab": {
          "base_uri": "https://localhost:8080/"
        },
        "id": "7BLlyJ7xUEEq",
        "outputId": "eed73b1b-e942-4e66-d649-27936a6b6cac"
      },
      "source": [
        "print(w)"
      ],
      "execution_count": 26,
      "outputs": [
        {
          "output_type": "stream",
          "text": [
            "[0.47392828]\n"
          ],
          "name": "stdout"
        }
      ]
    },
    {
      "cell_type": "code",
      "metadata": {
        "colab": {
          "base_uri": "https://localhost:8080/"
        },
        "id": "sqmfnqtUUp7S",
        "outputId": "dde70706-11a2-4a88-99c6-a6457b669dbb"
      },
      "source": [
        "test = np.random.rand(1)\n",
        "print(\"Actual value: \" + str(fun(test)))\n",
        "print(\"Predicted value: \" + str(predict(test, w, b)))"
      ],
      "execution_count": 27,
      "outputs": [
        {
          "output_type": "stream",
          "text": [
            "Actual value: [1.08686523]\n",
            "Predicted value: [1.08465794]\n"
          ],
          "name": "stdout"
        }
      ]
    },
    {
      "cell_type": "code",
      "metadata": {
        "id": "lwt8XK0aybw2",
        "colab": {
          "base_uri": "https://localhost:8080/",
          "height": 282
        },
        "outputId": "640307ec-f449-4508-f3c6-56f57281040c"
      },
      "source": [
        "epocs_x = [i for i in range(1, epochs, 50)]\n",
        "import matplotlib.pyplot as plt\n",
        "plt.plot(epocs_x, losses)"
      ],
      "execution_count": 28,
      "outputs": [
        {
          "output_type": "execute_result",
          "data": {
            "text/plain": [
              "[<matplotlib.lines.Line2D at 0x7f341e1d1550>]"
            ]
          },
          "metadata": {},
          "execution_count": 28
        },
        {
          "output_type": "display_data",
          "data": {
            "image/png": "[encoded data removed]",
            "text/plain": [
              "<Figure size 432x288 with 1 Axes>"
            ]
          },
          "metadata": {
            "needs_background": "light"
          }
        }
      ]
    },
    {
      "cell_type": "code",
      "metadata": {
        "colab": {
          "base_uri": "https://localhost:8080/",
          "height": 298
        },
        "id": "GebRywNkBt39",
        "outputId": "e2ebbb8b-09d8-40ed-cc04-2ab6df3584b6"
      },
      "source": [
        "# Plotting the ground truth values vs model predicted values\n",
        "plt.plot(x, y, '.',\n",
        "         x, predict(x, w, b), '-')"
      ],
      "execution_count": 29,
      "outputs": [
        {
          "output_type": "execute_result",
          "data": {
            "text/plain": [
              "[<matplotlib.lines.Line2D at 0x7f341e146a50>,\n",
              " <matplotlib.lines.Line2D at 0x7f341e14f850>]"
            ]
          },
          "metadata": {},
          "execution_count": 29
        },
        {
          "output_type": "display_data",
          "data": {
            "image/png": "[encoded data removed]",
            "text/plain": [
              "<Figure size 432x288 with 1 Axes>"
            ]
          },
          "metadata": {
            "needs_background": "light"
          }
        }
      ]
    }
  ]
}