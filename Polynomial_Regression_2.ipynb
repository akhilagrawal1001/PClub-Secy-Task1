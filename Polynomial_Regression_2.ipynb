{
  "nbformat": 4,
  "nbformat_minor": 0,
  "metadata": {
    "colab": {
      "name": "Ploynomial_Regression_2.ipynb",
      "provenance": []
    },
    "kernelspec": {
      "name": "python3",
      "display_name": "Python 3"
    },
    "language_info": {
      "name": "python"
    }
  },
  "cells": [
    {
      "cell_type": "code",
      "metadata": {
        "id": "bvBCEfq_X4FL"
      },
      "source": [
        "import numpy as np"
      ],
      "execution_count": 1,
      "outputs": []
    },
    {
      "cell_type": "code",
      "metadata": {
        "id": "YoxWhjb0X4FM"
      },
      "source": [
        "# Hyper parameters\n",
        "m = 5000\n",
        "n = 2\n",
        "lr = 0.01\n",
        "epochs = 10000"
      ],
      "execution_count": 2,
      "outputs": []
    },
    {
      "cell_type": "code",
      "metadata": {
        "id": "9zsVER-CX4FM"
      },
      "source": [
        "def fun(X):\n",
        "  # since the data is not standardized in the code, the coeffecients are taken \n",
        "  # in the range (0, 1)\n",
        "  return 13 * ( X ** 2) / 17 +  7 * X / 19 + 5 / 11"
      ],
      "execution_count": 3,
      "outputs": []
    },
    {
      "cell_type": "code",
      "metadata": {
        "id": "XvdXQhjpX4FN"
      },
      "source": [
        "def create_dataset():\n",
        "    X = np.random.rand(m, 1)\n",
        "    X2 = X * X\n",
        "\n",
        "    Y = fun(X)\n",
        "\n",
        "    arr = []\n",
        "    arr.append(X2)\n",
        "    arr.append(X)\n",
        "\n",
        "    arr = np.array(arr)\n",
        "    return arr.reshape((n,m)), Y.reshape((1,m))"
      ],
      "execution_count": 4,
      "outputs": []
    },
    {
      "cell_type": "code",
      "metadata": {
        "id": "ouMDobgDX4FN"
      },
      "source": [
        "x, y = create_dataset()"
      ],
      "execution_count": 5,
      "outputs": []
    },
    {
      "cell_type": "code",
      "metadata": {
        "id": "tkngVuCtX4FO"
      },
      "source": [
        "w = np.random.rand(n, 1)\n",
        "b = np.random.rand(1)"
      ],
      "execution_count": 6,
      "outputs": []
    },
    {
      "cell_type": "code",
      "metadata": {
        "id": "O5KfFmcZX4FO"
      },
      "source": [
        "def predict(train, weight, bias):\n",
        "  return np.dot(weight.transpose(), train) + bias"
      ],
      "execution_count": 7,
      "outputs": []
    },
    {
      "cell_type": "code",
      "metadata": {
        "id": "jCTFwqNRTldm"
      },
      "source": [
        "def loss(y, y_hat):\n",
        "  return np.sum((np.abs(y-y_hat) ** 7)) / m"
      ],
      "execution_count": 8,
      "outputs": []
    },
    {
      "cell_type": "code",
      "metadata": {
        "id": "MlmFizuaWIve"
      },
      "source": [
        "def derivative(y, y_hat):\n",
        "  return 7 * ((y_hat - y) ** 5) * np.abs(y_hat - y)"
      ],
      "execution_count": 9,
      "outputs": []
    },
    {
      "cell_type": "code",
      "metadata": {
        "colab": {
          "base_uri": "https://localhost:8080/"
        },
        "id": "yrdCnip8NyZ3",
        "outputId": "7a3ea9b5-85db-44da-b28b-9db0805e2929"
      },
      "source": [
        "losses = []\n",
        "for i in range(epochs):\n",
        "  # forward prop\n",
        "  y_hat = predict(x, w, b)\n",
        "\n",
        "  # derivative for backprop\n",
        "  dz =  derivative(y, y_hat)\n",
        "\n",
        "  # printing loss every 50 epochs\n",
        "  if i % 500 == 0:\n",
        "    losses.append(loss(y, y_hat))\n",
        "    print(\"Loss at epoch \" + str(i+1) + \" is \" + str(loss(y, y_hat)))\n",
        "\n",
        "  dw = np.dot(x, dz.transpose()) / m\n",
        "  db = np.sum(dz) / m\n",
        "\n",
        "  w -= lr * dw\n",
        "  b -= lr * db"
      ],
      "execution_count": 10,
      "outputs": [
        {
          "output_type": "stream",
          "text": [
            "Loss at epoch 1 is 0.0006695313619962817\n",
            "Loss at epoch 501 is 0.00024955864329147964\n",
            "Loss at epoch 1001 is 0.00014271654941126568\n",
            "Loss at epoch 1501 is 9.641790246656347e-05\n",
            "Loss at epoch 2001 is 7.124198698153744e-05\n",
            "Loss at epoch 2501 is 5.5675547656692556e-05\n",
            "Loss at epoch 3001 is 4.521602504379965e-05\n",
            "Loss at epoch 3501 is 3.776532448026676e-05\n",
            "Loss at epoch 4001 is 3.2222928964774114e-05\n",
            "Loss at epoch 4501 is 2.795985491824943e-05\n",
            "Loss at epoch 5001 is 2.4592367245731768e-05\n",
            "Loss at epoch 5501 is 2.1874001767317203e-05\n",
            "Loss at epoch 6001 is 1.963973693283312e-05\n",
            "Loss at epoch 6501 is 1.77752181377536e-05\n",
            "Loss at epoch 7001 is 1.6198878559417487e-05\n",
            "Loss at epoch 7501 is 1.485108720312237e-05\n",
            "Loss at epoch 8001 is 1.3687312920628914e-05\n",
            "Loss at epoch 8501 is 1.2673678533896527e-05\n",
            "Loss at epoch 9001 is 1.1783988063844556e-05\n",
            "Loss at epoch 9501 is 1.0997689988782684e-05\n"
          ],
          "name": "stdout"
        }
      ]
    },
    {
      "cell_type": "code",
      "metadata": {
        "colab": {
          "base_uri": "https://localhost:8080/"
        },
        "id": "wEF1GSRMX4FS",
        "outputId": "3e559652-02eb-421a-bebb-47771c97ed6c"
      },
      "source": [
        "print(w)"
      ],
      "execution_count": 11,
      "outputs": [
        {
          "output_type": "stream",
          "text": [
            "[[0.32014739]\n",
            " [0.60454505]]\n"
          ],
          "name": "stdout"
        }
      ]
    },
    {
      "cell_type": "code",
      "metadata": {
        "id": "lwt8XK0aybw2",
        "colab": {
          "base_uri": "https://localhost:8080/",
          "height": 286
        },
        "outputId": "dbdda2c7-8815-433b-afab-749464e6466c"
      },
      "source": [
        "epocs_x = [i for i in range(1, epochs, 500)]\n",
        "import matplotlib.pyplot as plt\n",
        "plt.plot(epocs_x, losses)"
      ],
      "execution_count": 12,
      "outputs": [
        {
          "output_type": "execute_result",
          "data": {
            "text/plain": [
              "[<matplotlib.lines.Line2D at 0x7f1084a5c790>]"
            ]
          },
          "metadata": {},
          "execution_count": 12
        },
        {
          "output_type": "display_data",
          "data": {
            "image/png": "[encoded data removed]",
            "text/plain": [
              "<Figure size 432x288 with 1 Axes>"
            ]
          },
          "metadata": {
            "needs_background": "light"
          }
        }
      ]
    },
    {
      "cell_type": "code",
      "metadata": {
        "id": "M4UyjqClNQDn"
      },
      "source": [
        "# create test data for the model\n",
        "test_x, test_y = create_dataset()"
      ],
      "execution_count": 13,
      "outputs": []
    },
    {
      "cell_type": "code",
      "metadata": {
        "colab": {
          "base_uri": "https://localhost:8080/",
          "height": 298
        },
        "id": "GebRywNkBt39",
        "outputId": "2c59dbfc-bb0e-47f4-9f4f-2dd38f404618"
      },
      "source": [
        "# Plotting the ground truth values vs model predicted values\n",
        "# Yellow line denotes the predictions, blue line denotes the ground truth\n",
        "plt.plot(test_x[1], test_y.reshape(m), '.',\n",
        "         test_x[1], predict(test_x, w, b).reshape(m), '*')"
      ],
      "execution_count": 14,
      "outputs": [
        {
          "output_type": "execute_result",
          "data": {
            "text/plain": [
              "[<matplotlib.lines.Line2D at 0x7f1076dd9e90>,\n",
              " <matplotlib.lines.Line2D at 0x7f1076d6d6d0>]"
            ]
          },
          "metadata": {},
          "execution_count": 14
        },
        {
          "output_type": "display_data",
          "data": {
            "image/png": "[encoded data removed]",
            "text/plain": [
              "<Figure size 432x288 with 1 Axes>"
            ]
          },
          "metadata": {
            "needs_background": "light"
          }
        }
      ]
    },
    {
      "cell_type": "code",
      "metadata": {
        "id": "5mFzFOeNbejN"
      },
      "source": [
        ""
      ],
      "execution_count": 14,
      "outputs": []
    }
  ]
}