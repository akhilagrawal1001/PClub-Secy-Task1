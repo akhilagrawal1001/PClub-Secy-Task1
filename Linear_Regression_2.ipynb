{
  "nbformat": 4,
  "nbformat_minor": 0,
  "metadata": {
    "colab": {
      "name": "Linear_Regression_2.ipynb",
      "provenance": [],
      "collapsed_sections": []
    },
    "kernelspec": {
      "name": "python3",
      "display_name": "Python 3"
    },
    "language_info": {
      "name": "python"
    }
  },
  "cells": [
    {
      "cell_type": "code",
      "metadata": {
        "id": "p_Nhp7d0NyZy"
      },
      "source": [
        "import numpy as np"
      ],
      "execution_count": 1,
      "outputs": []
    },
    {
      "cell_type": "code",
      "metadata": {
        "id": "BmxPthOsNyZ1"
      },
      "source": [
        "# We will expect our model to learn the and get the weights, bias as close as possible\n",
        "# we will create a dataset of m values."
      ],
      "execution_count": 2,
      "outputs": []
    },
    {
      "cell_type": "code",
      "metadata": {
        "id": "nGRnBgx9NyZ1"
      },
      "source": [
        "# Hyper parameters\n",
        "m = 1000\n",
        "lr = 0.001\n",
        "epochs = 2000"
      ],
      "execution_count": 3,
      "outputs": []
    },
    {
      "cell_type": "code",
      "metadata": {
        "id": "kTtOS-91AL7P"
      },
      "source": [
        "# Chose this function at random\n",
        "def fun(x):\n",
        "  return  23 * x / 37 + 29 / 41 "
      ],
      "execution_count": 4,
      "outputs": []
    },
    {
      "cell_type": "code",
      "metadata": {
        "id": "pQdgoLDuNyZ2"
      },
      "source": [
        "def create_dataset():\n",
        "    X = np.random.rand(1000)\n",
        "    Y = fun(X) \n",
        "\n",
        "    return X, Y"
      ],
      "execution_count": 5,
      "outputs": []
    },
    {
      "cell_type": "code",
      "metadata": {
        "id": "F5gX5C3CNyZ2"
      },
      "source": [
        "x, y = create_dataset()"
      ],
      "execution_count": 6,
      "outputs": []
    },
    {
      "cell_type": "code",
      "metadata": {
        "id": "7Bum8pmiNyZ2"
      },
      "source": [
        "# This is the forward propagation of the model\n",
        "\n",
        "def predict(X, w, b):\n",
        "  return w * X + b"
      ],
      "execution_count": 7,
      "outputs": []
    },
    {
      "cell_type": "code",
      "metadata": {
        "id": "ztmCLX4INyZ2"
      },
      "source": [
        "# Initialising random weight and bias\n",
        "w = np.random.rand(1)\n",
        "b = np.random.rand(1)"
      ],
      "execution_count": 8,
      "outputs": []
    },
    {
      "cell_type": "code",
      "metadata": {
        "id": "UFNCgjUB-9cf"
      },
      "source": [
        "def loss(y, y_pred):\n",
        "  # Absolute difference error \n",
        "  return np.sum(np.abs(y-y_pred)) / m"
      ],
      "execution_count": 9,
      "outputs": []
    },
    {
      "cell_type": "code",
      "metadata": {
        "id": "hg4zR8OQ_qBI"
      },
      "source": [
        "def derivative(y, y_pred):\n",
        "  return (y_hat - y) / np.abs(y_hat - y)"
      ],
      "execution_count": 10,
      "outputs": []
    },
    {
      "cell_type": "code",
      "metadata": {
        "colab": {
          "base_uri": "https://localhost:8080/"
        },
        "id": "yrdCnip8NyZ3",
        "outputId": "17dbe88d-eb7b-42b4-b96e-5371eb9b7e5d"
      },
      "source": [
        "losses = []\n",
        "for i in range(epochs):\n",
        "  # forward prop\n",
        "  y_hat = predict(x, w, b)\n",
        "\n",
        "  # derivative for backprop\n",
        "  dz =  derivative(y, y_hat)\n",
        "\n",
        "  # printing loss every 50 epochs\n",
        "  if i % 50 == 0:\n",
        "    losses.append(loss(y, y_hat))\n",
        "    print(\"Loss at epoch \" + str(i+1) + \" is \" + str(loss(y, y_hat)))\n",
        "\n",
        "  dw = np.dot(x, dz.transpose()) / m\n",
        "  db = np.sum(dz) / m\n",
        "\n",
        "  w -= lr * dw\n",
        "  b -= lr * db"
      ],
      "execution_count": 11,
      "outputs": [
        {
          "output_type": "stream",
          "text": [
            "Loss at epoch 1 is 0.365263438505796\n",
            "Loss at epoch 51 is 0.30301274887283947\n",
            "Loss at epoch 101 is 0.24076205923988295\n",
            "Loss at epoch 151 is 0.17851136960692573\n",
            "Loss at epoch 201 is 0.12609030533390617\n",
            "Loss at epoch 251 is 0.09491456830358652\n",
            "Loss at epoch 301 is 0.07763678022377314\n",
            "Loss at epoch 351 is 0.0670754662667253\n",
            "Loss at epoch 401 is 0.061012014459145635\n",
            "Loss at epoch 451 is 0.057289935590151365\n",
            "Loss at epoch 501 is 0.054376620859611105\n",
            "Loss at epoch 551 is 0.05176744546309324\n",
            "Loss at epoch 601 is 0.049275302547047616\n",
            "Loss at epoch 651 is 0.046801897144925574\n",
            "Loss at epoch 701 is 0.04433092970460755\n",
            "Loss at epoch 751 is 0.04186072534243236\n",
            "Loss at epoch 801 is 0.03939108337753601\n",
            "Loss at epoch 851 is 0.0369214811142804\n",
            "Loss at epoch 901 is 0.03445196466608246\n",
            "Loss at epoch 951 is 0.03198244810310177\n",
            "Loss at epoch 1001 is 0.02951293081308009\n",
            "Loss at epoch 1051 is 0.02704341352305862\n",
            "Loss at epoch 1101 is 0.024573896233037143\n",
            "Loss at epoch 1151 is 0.022104379797928324\n",
            "Loss at epoch 1201 is 0.019634863221859256\n",
            "Loss at epoch 1251 is 0.017165345931837783\n",
            "Loss at epoch 1301 is 0.014695828641816315\n",
            "Loss at epoch 1351 is 0.012226311351794838\n",
            "Loss at epoch 1401 is 0.009756794929774775\n",
            "Loss at epoch 1451 is 0.007287278340616956\n",
            "Loss at epoch 1501 is 0.00481776105059548\n",
            "Loss at epoch 1551 is 0.0023482437605740107\n",
            "Loss at epoch 1601 is 0.001118943332600447\n",
            "Loss at epoch 1651 is 0.001118943332600447\n",
            "Loss at epoch 1701 is 0.001118943332600447\n",
            "Loss at epoch 1751 is 0.001118943332600447\n",
            "Loss at epoch 1801 is 0.001118943332600447\n",
            "Loss at epoch 1851 is 0.001118943332600447\n",
            "Loss at epoch 1901 is 0.001118943332600447\n",
            "Loss at epoch 1951 is 0.001118943332600447\n"
          ],
          "name": "stdout"
        }
      ]
    },
    {
      "cell_type": "code",
      "metadata": {
        "colab": {
          "base_uri": "https://localhost:8080/"
        },
        "id": "xUCzcQHlNyZ3",
        "outputId": "eeadf5cb-dd64-478c-f595-6f316b69c756"
      },
      "source": [
        "print(w)"
      ],
      "execution_count": 12,
      "outputs": [
        {
          "output_type": "stream",
          "text": [
            "[0.6219563]\n"
          ],
          "name": "stdout"
        }
      ]
    },
    {
      "cell_type": "code",
      "metadata": {
        "colab": {
          "base_uri": "https://localhost:8080/"
        },
        "id": "fq0CtOyKNyZ3",
        "outputId": "52a565a4-371c-4696-9367-b7f1eef60e57"
      },
      "source": [
        "test = np.random.rand(1)\n",
        "print(\"Actual value: \" + str(fun(test)))\n",
        "print(\"Predicted value: \" + str(predict(test, w, b)))"
      ],
      "execution_count": 13,
      "outputs": [
        {
          "output_type": "stream",
          "text": [
            "Actual value: [1.17428582]\n",
            "Predicted value: [1.17549052]\n"
          ],
          "name": "stdout"
        }
      ]
    },
    {
      "cell_type": "code",
      "metadata": {
        "id": "lwt8XK0aybw2",
        "colab": {
          "base_uri": "https://localhost:8080/",
          "height": 282
        },
        "outputId": "38a61cce-54dc-4914-efc7-cdbb10f68f16"
      },
      "source": [
        "epocs_x = [i for i in range(1, epochs, 50)]\n",
        "import matplotlib.pyplot as plt\n",
        "plt.plot(epocs_x, losses)"
      ],
      "execution_count": 14,
      "outputs": [
        {
          "output_type": "execute_result",
          "data": {
            "text/plain": [
              "[<matplotlib.lines.Line2D at 0x7f091cc3fb50>]"
            ]
          },
          "metadata": {},
          "execution_count": 14
        },
        {
          "output_type": "display_data",
          "data": {
            "image/png": "[encoded data removed]",
            "text/plain": [
              "<Figure size 432x288 with 1 Axes>"
            ]
          },
          "metadata": {
            "needs_background": "light"
          }
        }
      ]
    },
    {
      "cell_type": "code",
      "metadata": {
        "id": "M4UyjqClNQDn"
      },
      "source": [
        "# create test data for the model\n",
        "test_x, test_y = create_dataset()"
      ],
      "execution_count": 15,
      "outputs": []
    },
    {
      "cell_type": "code",
      "metadata": {
        "colab": {
          "base_uri": "https://localhost:8080/"
        },
        "id": "YJZ8CRpQ9_UD",
        "outputId": "bcb8a342-cca6-48d6-dbb8-80da418d9cb6"
      },
      "source": [
        "# Loss on test data\n",
        "print(\"Loss on test data is : \" + str(loss(test_y, predict(test_x, w, b))))"
      ],
      "execution_count": 16,
      "outputs": [
        {
          "output_type": "stream",
          "text": [
            "Loss on test data is : 0.0011220985852965666\n"
          ],
          "name": "stdout"
        }
      ]
    },
    {
      "cell_type": "code",
      "metadata": {
        "colab": {
          "base_uri": "https://localhost:8080/",
          "height": 298
        },
        "id": "GebRywNkBt39",
        "outputId": "93aec916-2bf5-44c5-d783-6b61108352a5"
      },
      "source": [
        "# Plotting the ground truth values vs model predicted values\n",
        "# Yellow line denotes the predictions, blue line denotes the ground truth\n",
        "plt.plot(test_x, test_y, '.',\n",
        "         test_x, predict(test_x, w, b), '-')"
      ],
      "execution_count": 17,
      "outputs": [
        {
          "output_type": "execute_result",
          "data": {
            "text/plain": [
              "[<matplotlib.lines.Line2D at 0x7f09169e10d0>,\n",
              " <matplotlib.lines.Line2D at 0x7f09169e1650>]"
            ]
          },
          "metadata": {},
          "execution_count": 17
        },
        {
          "output_type": "display_data",
          "data": {
            "image/png": "[encoded data removed]",
            "text/plain": [
              "<Figure size 432x288 with 1 Axes>"
            ]
          },
          "metadata": {
            "needs_background": "light"
          }
        }
      ]
    },
    {
      "cell_type": "code",
      "metadata": {
        "id": "ZgF2Jsz-OUTM"
      },
      "source": [
        ""
      ],
      "execution_count": 17,
      "outputs": []
    }
  ]
}