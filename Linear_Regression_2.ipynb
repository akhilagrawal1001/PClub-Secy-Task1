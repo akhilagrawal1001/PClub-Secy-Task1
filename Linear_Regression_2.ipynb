{
  "nbformat": 4,
  "nbformat_minor": 0,
  "metadata": {
    "colab": {
      "name": "Linear_Regression_2.ipynb",
      "provenance": [],
      "collapsed_sections": []
    },
    "kernelspec": {
      "name": "python3",
      "display_name": "Python 3"
    },
    "language_info": {
      "name": "python"
    }
  },
  "cells": [
    {
      "cell_type": "code",
      "metadata": {
        "id": "p_Nhp7d0NyZy"
      },
      "source": [
        "import numpy as np"
      ],
      "execution_count": null,
      "outputs": []
    },
    {
      "cell_type": "code",
      "metadata": {
        "id": "BmxPthOsNyZ1"
      },
      "source": [
        "# We will expect our model to learn the and get the weights, bias as close as possible\n",
        "# we will create a dataset of m values."
      ],
      "execution_count": null,
      "outputs": []
    },
    {
      "cell_type": "code",
      "metadata": {
        "id": "nGRnBgx9NyZ1"
      },
      "source": [
        "# Hyper parameters\n",
        "m = 1000\n",
        "lr = 0.001\n",
        "epochs = 2000"
      ],
      "execution_count": null,
      "outputs": []
    },
    {
      "cell_type": "code",
      "metadata": {
        "id": "kTtOS-91AL7P"
      },
      "source": [
        "# Chose this function at random\n",
        "def fun(x):\n",
        "  return  23 * x / 37 + 29 / 41 "
      ],
      "execution_count": null,
      "outputs": []
    },
    {
      "cell_type": "code",
      "metadata": {
        "id": "pQdgoLDuNyZ2"
      },
      "source": [
        "def create_dataset():\n",
        "    X = np.random.rand(1000)\n",
        "    Y = fun(X) \n",
        "\n",
        "    return X, Y"
      ],
      "execution_count": null,
      "outputs": []
    },
    {
      "cell_type": "code",
      "metadata": {
        "id": "F5gX5C3CNyZ2"
      },
      "source": [
        "x, y = create_dataset()"
      ],
      "execution_count": null,
      "outputs": []
    },
    {
      "cell_type": "code",
      "metadata": {
        "id": "7Bum8pmiNyZ2"
      },
      "source": [
        "# This is the forward propagation of the model\n",
        "\n",
        "def predict(X, w, b):\n",
        "  return w * X + b"
      ],
      "execution_count": null,
      "outputs": []
    },
    {
      "cell_type": "code",
      "metadata": {
        "id": "ztmCLX4INyZ2"
      },
      "source": [
        "# Initialising random weight and bias\n",
        "w = np.random.rand(1)\n",
        "b = np.random.rand(1)"
      ],
      "execution_count": null,
      "outputs": []
    },
    {
      "cell_type": "code",
      "metadata": {
        "id": "UFNCgjUB-9cf"
      },
      "source": [
        "def loss(y, y_pred):\n",
        "  # Absolute difference error \n",
        "  return np.sum(np.abs(y-y_pred)) / m"
      ],
      "execution_count": null,
      "outputs": []
    },
    {
      "cell_type": "code",
      "metadata": {
        "id": "hg4zR8OQ_qBI"
      },
      "source": [
        "def derivative(y, y_pred):\n",
        "  return (y_hat - y) / np.abs(y_hat - y)"
      ],
      "execution_count": null,
      "outputs": []
    },
    {
      "cell_type": "code",
      "metadata": {
        "colab": {
          "base_uri": "https://localhost:8080/"
        },
        "id": "yrdCnip8NyZ3",
        "outputId": "dc7d9afc-9af1-4f53-d359-b1227922b33f"
      },
      "source": [
        "losses = []\n",
        "for i in range(epochs):\n",
        "  # forward prop\n",
        "  y_hat = predict(x, w, b)\n",
        "\n",
        "  # derivative for backprop\n",
        "  dz =  derivative(y, y_hat)\n",
        "\n",
        "  # printing loss every 50 epochs\n",
        "  if i % 50 == 0:\n",
        "    losses.append(loss(y, y_hat))\n",
        "    print(\"Loss at epoch \" + str(i+1) + \" is \" + str(loss(y, y_hat)))\n",
        "\n",
        "  dw = np.dot(x, dz.transpose()) / m\n",
        "  db = np.sum(dz) / m\n",
        "\n",
        "  w -= lr * dw\n",
        "  b -= lr * db"
      ],
      "execution_count": null,
      "outputs": [
        {
          "output_type": "stream",
          "text": [
            "Loss at epoch 1 is 0.24261775940631958\n",
            "Loss at epoch 51 is 0.18038453721512693\n",
            "Loss at epoch 101 is 0.11815131502393429\n",
            "Loss at epoch 151 is 0.05591809283274165\n",
            "Loss at epoch 201 is 0.009228887603166019\n",
            "Loss at epoch 251 is 0.006524776823660702\n",
            "Loss at epoch 301 is 0.00409466545059028\n",
            "Loss at epoch 351 is 0.0016645975197567737\n",
            "Loss at epoch 401 is 0.00034398075438950835\n",
            "Loss at epoch 451 is 0.00034398075438950835\n",
            "Loss at epoch 501 is 0.00034398075438950835\n",
            "Loss at epoch 551 is 0.00034398075438950835\n",
            "Loss at epoch 601 is 0.00034398075438950835\n",
            "Loss at epoch 651 is 0.00034398075438950835\n",
            "Loss at epoch 701 is 0.00034398075438950835\n",
            "Loss at epoch 751 is 0.00034398075438950835\n",
            "Loss at epoch 801 is 0.00034398075438950835\n",
            "Loss at epoch 851 is 0.00034398075438950835\n",
            "Loss at epoch 901 is 0.00034398075438950835\n",
            "Loss at epoch 951 is 0.00034398075438950835\n",
            "Loss at epoch 1001 is 0.00034398075438950835\n",
            "Loss at epoch 1051 is 0.00034398075438950835\n",
            "Loss at epoch 1101 is 0.00034398075438950835\n",
            "Loss at epoch 1151 is 0.00034398075438950835\n",
            "Loss at epoch 1201 is 0.00034398075438950835\n",
            "Loss at epoch 1251 is 0.00034398075438950835\n",
            "Loss at epoch 1301 is 0.00034398075438950835\n",
            "Loss at epoch 1351 is 0.00034398075438950835\n",
            "Loss at epoch 1401 is 0.00034398075438950835\n",
            "Loss at epoch 1451 is 0.00034398075438950835\n",
            "Loss at epoch 1501 is 0.00034398075438950835\n",
            "Loss at epoch 1551 is 0.00034398075438950835\n",
            "Loss at epoch 1601 is 0.00034398075438950835\n",
            "Loss at epoch 1651 is 0.00034398075438950835\n",
            "Loss at epoch 1701 is 0.00034398075438950835\n",
            "Loss at epoch 1751 is 0.00034398075438950835\n",
            "Loss at epoch 1801 is 0.00034398075438950835\n",
            "Loss at epoch 1851 is 0.00034398075438950835\n",
            "Loss at epoch 1901 is 0.00034398075438950835\n",
            "Loss at epoch 1951 is 0.00034398075438950835\n"
          ],
          "name": "stdout"
        }
      ]
    },
    {
      "cell_type": "code",
      "metadata": {
        "colab": {
          "base_uri": "https://localhost:8080/"
        },
        "id": "xUCzcQHlNyZ3",
        "outputId": "cb0f7f21-79ab-4598-830e-d00a1ae98d41"
      },
      "source": [
        "print(w)"
      ],
      "execution_count": null,
      "outputs": [
        {
          "output_type": "stream",
          "text": [
            "[0.62153951]\n"
          ],
          "name": "stdout"
        }
      ]
    },
    {
      "cell_type": "code",
      "metadata": {
        "colab": {
          "base_uri": "https://localhost:8080/"
        },
        "id": "fq0CtOyKNyZ3",
        "outputId": "37ee715d-819e-437b-8f02-3a92d22606e6"
      },
      "source": [
        "test = np.random.rand(1)\n",
        "print(\"Actual value: \" + str(fun(test)))\n",
        "print(\"Predicted value: \" + str(predict(test, w, b)))"
      ],
      "execution_count": null,
      "outputs": [
        {
          "output_type": "stream",
          "text": [
            "Actual value: [0.76747721]\n",
            "Predicted value: [0.7671659]\n"
          ],
          "name": "stdout"
        }
      ]
    },
    {
      "cell_type": "code",
      "metadata": {
        "id": "lwt8XK0aybw2",
        "colab": {
          "base_uri": "https://localhost:8080/",
          "height": 282
        },
        "outputId": "d934a003-cc0d-45f5-b35b-141013672656"
      },
      "source": [
        "epocs_x = [i for i in range(1, epochs, 50)]\n",
        "import matplotlib.pyplot as plt\n",
        "plt.plot(epocs_x, losses)"
      ],
      "execution_count": null,
      "outputs": [
        {
          "output_type": "execute_result",
          "data": {
            "text/plain": [
              "[<matplotlib.lines.Line2D at 0x7ff54ae15150>]"
            ]
          },
          "metadata": {},
          "execution_count": 14
        },
        {
          "output_type": "display_data",
          "data": {
            "image/png": "[encoded data removed]",
            "text/plain": [
              "<Figure size 432x288 with 1 Axes>"
            ]
          },
          "metadata": {
            "needs_background": "light"
          }
        }
      ]
    },
    {
      "cell_type": "code",
      "metadata": {
        "id": "M4UyjqClNQDn"
      },
      "source": [
        "# create test data for the model\n",
        "test_x, test_y = create_dataset()"
      ],
      "execution_count": null,
      "outputs": []
    },
    {
      "cell_type": "code",
      "metadata": {
        "colab": {
          "base_uri": "https://localhost:8080/",
          "height": 298
        },
        "id": "GebRywNkBt39",
        "outputId": "0d5331d5-91ee-4770-88ad-06ba2c99dbb1"
      },
      "source": [
        "# Plotting the ground truth values vs model predicted values\n",
        "# Yellow line denotes the predictions, blue line denotes the ground truth\n",
        "plt.plot(test_x, test_y, '.',\n",
        "         test_x, predict(test_x, w, b), '-')"
      ],
      "execution_count": null,
      "outputs": [
        {
          "output_type": "execute_result",
          "data": {
            "text/plain": [
              "[<matplotlib.lines.Line2D at 0x7ff54ad3f690>,\n",
              " <matplotlib.lines.Line2D at 0x7ff54ad3f9d0>]"
            ]
          },
          "metadata": {},
          "execution_count": 16
        },
        {
          "output_type": "display_data",
          "data": {
            "image/png": "[encoded data removed]",
            "text/plain": [
              "<Figure size 432x288 with 1 Axes>"
            ]
          },
          "metadata": {
            "needs_background": "light"
          }
        }
      ]
    },
    {
      "cell_type": "code",
      "metadata": {
        "id": "ZgF2Jsz-OUTM"
      },
      "source": [
        ""
      ],
      "execution_count": null,
      "outputs": []
    }
  ]
}