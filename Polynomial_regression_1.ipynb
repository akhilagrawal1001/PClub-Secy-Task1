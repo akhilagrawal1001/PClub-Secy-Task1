{
  "nbformat": 4,
  "nbformat_minor": 0,
  "metadata": {
    "colab": {
      "name": "Polynomial_regression_1.ipynb",
      "provenance": [],
      "collapsed_sections": []
    },
    "kernelspec": {
      "name": "python3",
      "display_name": "Python 3"
    },
    "language_info": {
      "name": "python"
    }
  },
  "cells": [
    {
      "cell_type": "code",
      "metadata": {
        "id": "bvBCEfq_X4FL"
      },
      "source": [
        "import numpy as np"
      ],
      "execution_count": 1,
      "outputs": []
    },
    {
      "cell_type": "code",
      "metadata": {
        "id": "YoxWhjb0X4FM"
      },
      "source": [
        "# Hyper parameters\n",
        "m = 2000\n",
        "n = 2\n",
        "lr = 0.001\n",
        "epochs = 10000"
      ],
      "execution_count": 2,
      "outputs": []
    },
    {
      "cell_type": "code",
      "metadata": {
        "id": "9zsVER-CX4FM"
      },
      "source": [
        "def fun(X):\n",
        "  # since the data is not standardized in the code, the coeffecients are taken \n",
        "  # in the range (0, 1)\n",
        "  return 41 * ( X ** 2) / 53 +  11 * X / 19 + 17 / 23"
      ],
      "execution_count": 3,
      "outputs": []
    },
    {
      "cell_type": "code",
      "metadata": {
        "id": "XvdXQhjpX4FN"
      },
      "source": [
        "def create_dataset():\n",
        "    X = np.random.rand(m, 1)\n",
        "    X2 = X * X\n",
        "\n",
        "    Y = fun(X)\n",
        "\n",
        "    arr = []\n",
        "    arr.append(X2)\n",
        "    arr.append(X)\n",
        "\n",
        "    arr = np.array(arr)\n",
        "    return arr.reshape((n,m)), Y.reshape((1,m))"
      ],
      "execution_count": 4,
      "outputs": []
    },
    {
      "cell_type": "code",
      "metadata": {
        "id": "ouMDobgDX4FN"
      },
      "source": [
        "x, y = create_dataset()\n",
        "# x = x.reshape((n, m))\n",
        "# y = y.reshape((1, m))"
      ],
      "execution_count": 5,
      "outputs": []
    },
    {
      "cell_type": "code",
      "metadata": {
        "id": "tkngVuCtX4FO"
      },
      "source": [
        "w = np.random.rand(n, 1)\n",
        "b = np.random.rand(1)"
      ],
      "execution_count": 6,
      "outputs": []
    },
    {
      "cell_type": "code",
      "metadata": {
        "id": "O5KfFmcZX4FO"
      },
      "source": [
        "def predict(train, weight, bias):\n",
        "  return np.dot(weight.transpose(), train) + bias"
      ],
      "execution_count": 7,
      "outputs": []
    },
    {
      "cell_type": "code",
      "metadata": {
        "id": "jCTFwqNRTldm"
      },
      "source": [
        "def loss(y, y_hat):\n",
        "  return np.sum((np.abs(y-y_hat) ** 4)) / m"
      ],
      "execution_count": 8,
      "outputs": []
    },
    {
      "cell_type": "code",
      "metadata": {
        "id": "MlmFizuaWIve"
      },
      "source": [
        "def derivative(y, y_hat):\n",
        "  return 4 * ((y_hat - y) ** 3)"
      ],
      "execution_count": 9,
      "outputs": []
    },
    {
      "cell_type": "code",
      "metadata": {
        "colab": {
          "base_uri": "https://localhost:8080/"
        },
        "id": "yrdCnip8NyZ3",
        "outputId": "fa6726d9-7d08-4dfa-d395-886543f20625"
      },
      "source": [
        "losses = []\n",
        "for i in range(epochs):\n",
        "  # forward prop\n",
        "  y_hat = predict(x, w, b)\n",
        "\n",
        "  # derivative for backprop\n",
        "  dz =  derivative(y, y_hat)\n",
        "\n",
        "  # printing loss every 50 epochs\n",
        "  if i % 500 == 0:\n",
        "    losses.append(loss(y, y_hat))\n",
        "    print(\"Loss at epoch \" + str(i+1) + \" is \" + str(loss(y, y_hat)))\n",
        "\n",
        "  dw = np.dot(x, dz.transpose()) / m\n",
        "  db = np.sum(dz) / m\n",
        "\n",
        "  w -= lr * dw\n",
        "  b -= lr * db"
      ],
      "execution_count": 10,
      "outputs": [
        {
          "output_type": "stream",
          "text": [
            "Loss at epoch 1 is 7.252362683330963e-05\n",
            "Loss at epoch 501 is 6.763188734153494e-05\n",
            "Loss at epoch 1001 is 6.325993933317266e-05\n",
            "Loss at epoch 1501 is 5.933459558659581e-05\n",
            "Loss at epoch 2001 is 5.5795271208382165e-05\n",
            "Loss at epoch 2501 is 5.259144935794141e-05\n",
            "Loss at epoch 3001 is 4.968072453366554e-05\n",
            "Loss at epoch 3501 is 4.7027277369078635e-05\n",
            "Loss at epoch 4001 is 4.4600675231459416e-05\n",
            "Loss at epoch 4501 is 4.2374921231431936e-05\n",
            "Loss at epoch 5001 is 4.0327694373893374e-05\n",
            "Loss at epoch 5501 is 3.8439738045458776e-05\n",
            "Loss at epoch 6001 is 3.6694364544611143e-05\n",
            "Loss at epoch 6501 is 3.50770510762297e-05\n",
            "Loss at epoch 7001 is 3.357510834965533e-05\n",
            "Loss at epoch 7501 is 3.217740719416134e-05\n",
            "Loss at epoch 8001 is 3.087415182881056e-05\n",
            "Loss at epoch 8501 is 2.9656690873151143e-05\n",
            "Loss at epoch 9001 is 2.8517359060788943e-05\n",
            "Loss at epoch 9501 is 2.7449344064283707e-05\n"
          ],
          "name": "stdout"
        }
      ]
    },
    {
      "cell_type": "code",
      "metadata": {
        "colab": {
          "base_uri": "https://localhost:8080/"
        },
        "id": "wEF1GSRMX4FS",
        "outputId": "9f708f7e-4442-43c7-e094-78f56e13836a"
      },
      "source": [
        "print(w)"
      ],
      "execution_count": 11,
      "outputs": [
        {
          "output_type": "stream",
          "text": [
            "[[0.80214977]\n",
            " [0.48366893]]\n"
          ],
          "name": "stdout"
        }
      ]
    },
    {
      "cell_type": "code",
      "metadata": {
        "id": "lwt8XK0aybw2",
        "colab": {
          "base_uri": "https://localhost:8080/",
          "height": 293
        },
        "outputId": "503c2019-9c21-4fb3-e56f-117376578d35"
      },
      "source": [
        "epocs_x = [i for i in range(1, epochs, 500)]\n",
        "import matplotlib.pyplot as plt\n",
        "plt.plot(epocs_x, losses)"
      ],
      "execution_count": 12,
      "outputs": [
        {
          "output_type": "execute_result",
          "data": {
            "text/plain": [
              "[<matplotlib.lines.Line2D at 0x7f5b9595ab90>]"
            ]
          },
          "metadata": {},
          "execution_count": 12
        },
        {
          "output_type": "display_data",
          "data": {
            "image/png": "[encoded data removed]",
            "text/plain": [
              "<Figure size 432x288 with 1 Axes>"
            ]
          },
          "metadata": {
            "needs_background": "light"
          }
        }
      ]
    },
    {
      "cell_type": "code",
      "metadata": {
        "id": "M4UyjqClNQDn"
      },
      "source": [
        "# create test data for the model\n",
        "test_x, test_y = create_dataset()"
      ],
      "execution_count": 13,
      "outputs": []
    },
    {
      "cell_type": "code",
      "metadata": {
        "colab": {
          "base_uri": "https://localhost:8080/",
          "height": 298
        },
        "id": "GebRywNkBt39",
        "outputId": "1cb2a60a-b4ae-45bf-82b9-160c9d6872a4"
      },
      "source": [
        "# Plotting the ground truth values vs model predicted values\n",
        "# Yellow line denotes the predictions, blue line denotes the ground truth\n",
        "plt.plot(test_x[1], test_y.reshape(m), '.',\n",
        "         test_x[1], predict(test_x, w, b).reshape(m), '*')"
      ],
      "execution_count": 14,
      "outputs": [
        {
          "output_type": "execute_result",
          "data": {
            "text/plain": [
              "[<matplotlib.lines.Line2D at 0x7f5b954344d0>,\n",
              " <matplotlib.lines.Line2D at 0x7f5b95434790>]"
            ]
          },
          "metadata": {},
          "execution_count": 14
        },
        {
          "output_type": "display_data",
          "data": {
            "image/png": "[encoded data removed]",
            "text/plain": [
              "<Figure size 432x288 with 1 Axes>"
            ]
          },
          "metadata": {
            "needs_background": "light"
          }
        }
      ]
    },
    {
      "cell_type": "code",
      "metadata": {
        "id": "RsnoMHF7YyQo"
      },
      "source": [
        ""
      ],
      "execution_count": 14,
      "outputs": []
    }
  ]
}