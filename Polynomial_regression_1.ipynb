{
  "nbformat": 4,
  "nbformat_minor": 0,
  "metadata": {
    "colab": {
      "name": "Polynomial_regression_1.ipynb",
      "provenance": [],
      "collapsed_sections": []
    },
    "kernelspec": {
      "name": "python3",
      "display_name": "Python 3"
    },
    "language_info": {
      "name": "python"
    }
  },
  "cells": [
    {
      "cell_type": "code",
      "metadata": {
        "id": "bvBCEfq_X4FL"
      },
      "source": [
        "import numpy as np"
      ],
      "execution_count": 1,
      "outputs": []
    },
    {
      "cell_type": "code",
      "metadata": {
        "id": "YoxWhjb0X4FM"
      },
      "source": [
        "# Hyper parameters\n",
        "m = 2000\n",
        "n = 2\n",
        "lr = 0.001\n",
        "epochs = 10000"
      ],
      "execution_count": 2,
      "outputs": []
    },
    {
      "cell_type": "code",
      "metadata": {
        "id": "9zsVER-CX4FM"
      },
      "source": [
        "def fun(X):\n",
        "  # since the data is not standardized in the code, the coeffecients are taken \n",
        "  # in the range (0, 1)\n",
        "  return 41 * ( X ** 2) / 53 +  11 * X / 19 + 17 / 23"
      ],
      "execution_count": 3,
      "outputs": []
    },
    {
      "cell_type": "code",
      "metadata": {
        "id": "XvdXQhjpX4FN"
      },
      "source": [
        "def create_dataset():\n",
        "    X = np.random.rand(m, 1)\n",
        "    X2 = X * X\n",
        "\n",
        "    Y = fun(X)\n",
        "\n",
        "    arr = []\n",
        "    arr.append(X2)\n",
        "    arr.append(X)\n",
        "\n",
        "    arr = np.array(arr)\n",
        "    return arr.reshape((n,m)), Y.reshape((1,m))"
      ],
      "execution_count": 4,
      "outputs": []
    },
    {
      "cell_type": "code",
      "metadata": {
        "id": "ouMDobgDX4FN"
      },
      "source": [
        "x, y = create_dataset()\n",
        "# x = x.reshape((n, m))\n",
        "# y = y.reshape((1, m))"
      ],
      "execution_count": 5,
      "outputs": []
    },
    {
      "cell_type": "code",
      "metadata": {
        "id": "tkngVuCtX4FO"
      },
      "source": [
        "w = np.random.rand(n, 1)\n",
        "b = np.random.rand(1)"
      ],
      "execution_count": 6,
      "outputs": []
    },
    {
      "cell_type": "code",
      "metadata": {
        "id": "O5KfFmcZX4FO"
      },
      "source": [
        "def predict(train, weight, bias):\n",
        "  return np.dot(weight.transpose(), train) + bias"
      ],
      "execution_count": 7,
      "outputs": []
    },
    {
      "cell_type": "code",
      "metadata": {
        "id": "jCTFwqNRTldm"
      },
      "source": [
        "def loss(y, y_hat):\n",
        "  return np.sum((np.abs(y-y_hat) ** 4)) / m"
      ],
      "execution_count": 8,
      "outputs": []
    },
    {
      "cell_type": "code",
      "metadata": {
        "id": "MlmFizuaWIve"
      },
      "source": [
        "def derivative(y, y_hat):\n",
        "  return 4 * ((y_hat - y) ** 3)"
      ],
      "execution_count": 9,
      "outputs": []
    },
    {
      "cell_type": "code",
      "metadata": {
        "colab": {
          "base_uri": "https://localhost:8080/"
        },
        "id": "yrdCnip8NyZ3",
        "outputId": "91201603-8ba0-4582-d7b2-44d95b583d12"
      },
      "source": [
        "losses = []\n",
        "for i in range(epochs):\n",
        "  # forward prop\n",
        "  y_hat = predict(x, w, b)\n",
        "\n",
        "  # derivative for backprop\n",
        "  dz =  derivative(y, y_hat)\n",
        "\n",
        "  # printing loss every 50 epochs\n",
        "  if i % 500 == 0:\n",
        "    losses.append(loss(y, y_hat))\n",
        "    print(\"Loss at epoch \" + str(i+1) + \" is \" + str(loss(y, y_hat)))\n",
        "\n",
        "  dw = np.dot(x, dz.transpose()) / m\n",
        "  db = np.sum(dz) / m\n",
        "\n",
        "  w -= lr * dw\n",
        "  b -= lr * db"
      ],
      "execution_count": 10,
      "outputs": [
        {
          "output_type": "stream",
          "text": [
            "Loss at epoch 1 is 0.14279225818617067\n",
            "Loss at epoch 501 is 0.013658866970456006\n",
            "Loss at epoch 1001 is 0.004939873115945313\n",
            "Loss at epoch 1501 is 0.002585805107238758\n",
            "Loss at epoch 2001 is 0.001615852104931158\n",
            "Loss at epoch 2501 is 0.001120484188146937\n",
            "Loss at epoch 3001 is 0.000831964399916548\n",
            "Loss at epoch 3501 is 0.000648261824792074\n",
            "Loss at epoch 4001 is 0.0005235039083612989\n",
            "Loss at epoch 4501 is 0.00043453068737233123\n",
            "Loss at epoch 5001 is 0.0003685961527375895\n",
            "Loss at epoch 5501 is 0.0003182009273394629\n",
            "Loss at epoch 6001 is 0.0002786907345532589\n",
            "Loss at epoch 6501 is 0.00024704814730816847\n",
            "Loss at epoch 7001 is 0.00022124442379024492\n",
            "Loss at epoch 7501 is 0.00019987286212303957\n",
            "Loss at epoch 8001 is 0.00018193193538244089\n",
            "Loss at epoch 8501 is 0.0001666920372792228\n",
            "Loss at epoch 9001 is 0.00015361086172323014\n",
            "Loss at epoch 9501 is 0.0001422780985633761\n"
          ],
          "name": "stdout"
        }
      ]
    },
    {
      "cell_type": "code",
      "metadata": {
        "colab": {
          "base_uri": "https://localhost:8080/"
        },
        "id": "wEF1GSRMX4FS",
        "outputId": "5965f80b-600c-43bf-e9ab-f464c9751b41"
      },
      "source": [
        "print(w)"
      ],
      "execution_count": 11,
      "outputs": [
        {
          "output_type": "stream",
          "text": [
            "[[0.23045514]\n",
            " [1.15720526]]\n"
          ],
          "name": "stdout"
        }
      ]
    },
    {
      "cell_type": "code",
      "metadata": {
        "id": "lwt8XK0aybw2",
        "colab": {
          "base_uri": "https://localhost:8080/",
          "height": 282
        },
        "outputId": "a3feb61b-51ad-44bd-bc21-3e703500c407"
      },
      "source": [
        "epocs_x = [i for i in range(1, epochs, 500)]\n",
        "import matplotlib.pyplot as plt\n",
        "plt.plot(epocs_x, losses)"
      ],
      "execution_count": 12,
      "outputs": [
        {
          "output_type": "execute_result",
          "data": {
            "text/plain": [
              "[<matplotlib.lines.Line2D at 0x7f1091c23b90>]"
            ]
          },
          "metadata": {},
          "execution_count": 12
        },
        {
          "output_type": "display_data",
          "data": {
            "image/png": "[encoded data removed]",
            "text/plain": [
              "<Figure size 432x288 with 1 Axes>"
            ]
          },
          "metadata": {
            "needs_background": "light"
          }
        }
      ]
    },
    {
      "cell_type": "code",
      "metadata": {
        "id": "M4UyjqClNQDn"
      },
      "source": [
        "# create test data for the model\n",
        "test_x, test_y = create_dataset()"
      ],
      "execution_count": 13,
      "outputs": []
    },
    {
      "cell_type": "code",
      "metadata": {
        "colab": {
          "base_uri": "https://localhost:8080/"
        },
        "id": "t1XF0hsdBhy5",
        "outputId": "b2dc6b9e-7798-4578-b886-7aa5973cd555"
      },
      "source": [
        "# Loss on test data\n",
        "print(\"Loss on test data is : \" + str(loss(test_y, predict(test_x, w, b))))"
      ],
      "execution_count": 14,
      "outputs": [
        {
          "output_type": "stream",
          "text": [
            "Loss on test data is : 0.0001319159798506644\n"
          ],
          "name": "stdout"
        }
      ]
    },
    {
      "cell_type": "code",
      "metadata": {
        "colab": {
          "base_uri": "https://localhost:8080/",
          "height": 298
        },
        "id": "GebRywNkBt39",
        "outputId": "af2278d9-5ba9-43f5-ecdd-f830c317d0d2"
      },
      "source": [
        "# Plotting the ground truth values vs model predicted values\n",
        "# Yellow line denotes the predictions, blue line denotes the ground truth\n",
        "plt.plot(test_x[1], test_y.reshape(m), '.',\n",
        "         test_x[1], predict(test_x, w, b).reshape(m), '*')"
      ],
      "execution_count": 15,
      "outputs": [
        {
          "output_type": "execute_result",
          "data": {
            "text/plain": [
              "[<matplotlib.lines.Line2D at 0x7f10916c29d0>,\n",
              " <matplotlib.lines.Line2D at 0x7f10916c2c50>]"
            ]
          },
          "metadata": {},
          "execution_count": 15
        },
        {
          "output_type": "display_data",
          "data": {
            "image/png": "[encoded data removed]",
            "text/plain": [
              "<Figure size 432x288 with 1 Axes>"
            ]
          },
          "metadata": {
            "needs_background": "light"
          }
        }
      ]
    },
    {
      "cell_type": "code",
      "metadata": {
        "id": "RsnoMHF7YyQo"
      },
      "source": [
        ""
      ],
      "execution_count": 15,
      "outputs": []
    }
  ]
}